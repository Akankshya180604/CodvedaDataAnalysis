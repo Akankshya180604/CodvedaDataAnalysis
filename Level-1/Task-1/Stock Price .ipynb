{
 "cells": [
  {
   "cell_type": "markdown",
   "id": "353896df-cfa3-46e6-b9bc-c877aa4992dc",
   "metadata": {},
   "source": [
    "## TASK 1: DATA CLEANING AND PREPROCESSING"
   ]
  },
  {
   "cell_type": "markdown",
   "id": "1f5dbd5f-ef1b-4230-bb12-e0273c90f09d",
   "metadata": {},
   "source": [
    "### OBJECTIVE:\n",
    "1. Load the dataset using pandas.\n",
    "2. Identify and handle missing values(e.g: Imputation or removal)\n",
    "3. Remove duplicate rows & standardize inconsistent data formats."
   ]
  },
  {
   "cell_type": "markdown",
   "id": "c1af719a-a1d5-4911-b885-b9c60e18d923",
   "metadata": {},
   "source": [
    "#### 1. IMPORTING LIBRARIES"
   ]
  },
  {
   "cell_type": "code",
   "execution_count": 4,
   "id": "606e86ff-640c-4777-8f8b-70995457afc5",
   "metadata": {},
   "outputs": [],
   "source": [
    "import numpy as np \n",
    "import pandas as pd"
   ]
  },
  {
   "cell_type": "markdown",
   "id": "163822ed-25d6-43fa-9e1d-b417595305de",
   "metadata": {},
   "source": [
    "#### 2. READING THE CSV FILE"
   ]
  },
  {
   "cell_type": "code",
   "execution_count": 6,
   "id": "4509d66e-7377-4e78-99a5-a5cb476798b1",
   "metadata": {},
   "outputs": [
    {
     "name": "stdout",
     "output_type": "stream",
     "text": [
      "       symbol        date      open      high       low     close    volume\n",
      "0         AAL  2014-01-02   25.0700   25.8200   25.0600   25.3600   8998943\n",
      "1        AAPL  2014-01-02   79.3828   79.5756   78.8601   79.0185  58791957\n",
      "2         AAP  2014-01-02  110.3600  111.8800  109.2900  109.7400    542711\n",
      "3        ABBV  2014-01-02   52.1200   52.3300   51.5200   51.9800   4569061\n",
      "4         ABC  2014-01-02   70.1100   70.2300   69.4800   69.8900   1148391\n",
      "...       ...         ...       ...       ...       ...       ...       ...\n",
      "497467    XYL  2017-12-29   68.5300   68.8000   67.9200   68.2000   1046677\n",
      "497468    YUM  2017-12-29   82.6400   82.7100   81.5900   81.6100   1347613\n",
      "497469    ZBH  2017-12-29  121.7500  121.9500  120.6200  120.6700   1023624\n",
      "497470   ZION  2017-12-29   51.2800   51.5500   50.8100   50.8300   1261916\n",
      "497471    ZTS  2017-12-29   72.5500   72.7600   72.0400   72.0400   1704122\n",
      "\n",
      "[497472 rows x 7 columns]\n"
     ]
    }
   ],
   "source": [
    "stock=pd.read_csv('Stock Prices Data Set.csv')\n",
    "print(stock)"
   ]
  },
  {
   "cell_type": "markdown",
   "id": "d288c174-ce69-4339-95a0-2ff1b11c977e",
   "metadata": {},
   "source": [
    "#### 3. CHECKING FOR NULL VALUES "
   ]
  },
  {
   "cell_type": "code",
   "execution_count": 8,
   "id": "ea6974d4-8f47-406f-8ad7-9689053c1bc4",
   "metadata": {},
   "outputs": [
    {
     "data": {
      "text/plain": [
       "symbol     0\n",
       "date       0\n",
       "open      11\n",
       "high       8\n",
       "low        8\n",
       "close      0\n",
       "volume     0\n",
       "dtype: int64"
      ]
     },
     "execution_count": 8,
     "metadata": {},
     "output_type": "execute_result"
    }
   ],
   "source": [
    "stock.isnull().sum()"
   ]
  },
  {
   "cell_type": "markdown",
   "id": "44ea06d2-594a-49ff-ac30-645dbdb5b496",
   "metadata": {},
   "source": [
    "#### HERE THERE ARE NULL VALUES SO WE WILL IMPUTE THEIR MEAN."
   ]
  },
  {
   "cell_type": "code",
   "execution_count": 10,
   "id": "ae246653-6740-4d65-bab2-7d88af987bb9",
   "metadata": {},
   "outputs": [
    {
     "data": {
      "text/html": [
       "<div>\n",
       "<style scoped>\n",
       "    .dataframe tbody tr th:only-of-type {\n",
       "        vertical-align: middle;\n",
       "    }\n",
       "\n",
       "    .dataframe tbody tr th {\n",
       "        vertical-align: top;\n",
       "    }\n",
       "\n",
       "    .dataframe thead th {\n",
       "        text-align: right;\n",
       "    }\n",
       "</style>\n",
       "<table border=\"1\" class=\"dataframe\">\n",
       "  <thead>\n",
       "    <tr style=\"text-align: right;\">\n",
       "      <th></th>\n",
       "      <th>symbol</th>\n",
       "      <th>date</th>\n",
       "      <th>open</th>\n",
       "      <th>high</th>\n",
       "      <th>low</th>\n",
       "      <th>close</th>\n",
       "      <th>volume</th>\n",
       "    </tr>\n",
       "  </thead>\n",
       "  <tbody>\n",
       "    <tr>\n",
       "      <th>count</th>\n",
       "      <td>497472</td>\n",
       "      <td>497472</td>\n",
       "      <td>497461.000000</td>\n",
       "      <td>497464.000000</td>\n",
       "      <td>497464.000000</td>\n",
       "      <td>497472.000000</td>\n",
       "      <td>4.974720e+05</td>\n",
       "    </tr>\n",
       "    <tr>\n",
       "      <th>unique</th>\n",
       "      <td>505</td>\n",
       "      <td>1007</td>\n",
       "      <td>NaN</td>\n",
       "      <td>NaN</td>\n",
       "      <td>NaN</td>\n",
       "      <td>NaN</td>\n",
       "      <td>NaN</td>\n",
       "    </tr>\n",
       "    <tr>\n",
       "      <th>top</th>\n",
       "      <td>AAL</td>\n",
       "      <td>2017-12-29</td>\n",
       "      <td>NaN</td>\n",
       "      <td>NaN</td>\n",
       "      <td>NaN</td>\n",
       "      <td>NaN</td>\n",
       "      <td>NaN</td>\n",
       "    </tr>\n",
       "    <tr>\n",
       "      <th>freq</th>\n",
       "      <td>1007</td>\n",
       "      <td>505</td>\n",
       "      <td>NaN</td>\n",
       "      <td>NaN</td>\n",
       "      <td>NaN</td>\n",
       "      <td>NaN</td>\n",
       "      <td>NaN</td>\n",
       "    </tr>\n",
       "    <tr>\n",
       "      <th>mean</th>\n",
       "      <td>NaN</td>\n",
       "      <td>NaN</td>\n",
       "      <td>86.352275</td>\n",
       "      <td>87.132562</td>\n",
       "      <td>85.552467</td>\n",
       "      <td>86.369082</td>\n",
       "      <td>4.253611e+06</td>\n",
       "    </tr>\n",
       "    <tr>\n",
       "      <th>std</th>\n",
       "      <td>NaN</td>\n",
       "      <td>NaN</td>\n",
       "      <td>101.471228</td>\n",
       "      <td>102.312062</td>\n",
       "      <td>100.570957</td>\n",
       "      <td>101.472407</td>\n",
       "      <td>8.232139e+06</td>\n",
       "    </tr>\n",
       "    <tr>\n",
       "      <th>min</th>\n",
       "      <td>NaN</td>\n",
       "      <td>NaN</td>\n",
       "      <td>1.620000</td>\n",
       "      <td>1.690000</td>\n",
       "      <td>1.500000</td>\n",
       "      <td>1.590000</td>\n",
       "      <td>0.000000e+00</td>\n",
       "    </tr>\n",
       "    <tr>\n",
       "      <th>25%</th>\n",
       "      <td>NaN</td>\n",
       "      <td>NaN</td>\n",
       "      <td>41.690000</td>\n",
       "      <td>42.090000</td>\n",
       "      <td>41.280000</td>\n",
       "      <td>41.703750</td>\n",
       "      <td>1.080166e+06</td>\n",
       "    </tr>\n",
       "    <tr>\n",
       "      <th>50%</th>\n",
       "      <td>NaN</td>\n",
       "      <td>NaN</td>\n",
       "      <td>64.970000</td>\n",
       "      <td>65.560000</td>\n",
       "      <td>64.353700</td>\n",
       "      <td>64.980000</td>\n",
       "      <td>2.084896e+06</td>\n",
       "    </tr>\n",
       "    <tr>\n",
       "      <th>75%</th>\n",
       "      <td>NaN</td>\n",
       "      <td>NaN</td>\n",
       "      <td>98.410000</td>\n",
       "      <td>99.230000</td>\n",
       "      <td>97.580000</td>\n",
       "      <td>98.420000</td>\n",
       "      <td>4.271928e+06</td>\n",
       "    </tr>\n",
       "    <tr>\n",
       "      <th>max</th>\n",
       "      <td>NaN</td>\n",
       "      <td>NaN</td>\n",
       "      <td>2044.000000</td>\n",
       "      <td>2067.990000</td>\n",
       "      <td>2035.110000</td>\n",
       "      <td>2049.000000</td>\n",
       "      <td>6.182376e+08</td>\n",
       "    </tr>\n",
       "  </tbody>\n",
       "</table>\n",
       "</div>"
      ],
      "text/plain": [
       "        symbol        date           open           high            low  \\\n",
       "count   497472      497472  497461.000000  497464.000000  497464.000000   \n",
       "unique     505        1007            NaN            NaN            NaN   \n",
       "top        AAL  2017-12-29            NaN            NaN            NaN   \n",
       "freq      1007         505            NaN            NaN            NaN   \n",
       "mean       NaN         NaN      86.352275      87.132562      85.552467   \n",
       "std        NaN         NaN     101.471228     102.312062     100.570957   \n",
       "min        NaN         NaN       1.620000       1.690000       1.500000   \n",
       "25%        NaN         NaN      41.690000      42.090000      41.280000   \n",
       "50%        NaN         NaN      64.970000      65.560000      64.353700   \n",
       "75%        NaN         NaN      98.410000      99.230000      97.580000   \n",
       "max        NaN         NaN    2044.000000    2067.990000    2035.110000   \n",
       "\n",
       "                close        volume  \n",
       "count   497472.000000  4.974720e+05  \n",
       "unique            NaN           NaN  \n",
       "top               NaN           NaN  \n",
       "freq              NaN           NaN  \n",
       "mean        86.369082  4.253611e+06  \n",
       "std        101.472407  8.232139e+06  \n",
       "min          1.590000  0.000000e+00  \n",
       "25%         41.703750  1.080166e+06  \n",
       "50%         64.980000  2.084896e+06  \n",
       "75%         98.420000  4.271928e+06  \n",
       "max       2049.000000  6.182376e+08  "
      ]
     },
     "execution_count": 10,
     "metadata": {},
     "output_type": "execute_result"
    }
   ],
   "source": [
    "stock.describe(include='all')"
   ]
  },
  {
   "cell_type": "code",
   "execution_count": 11,
   "id": "b884eba1-ee4d-4c0e-88ec-b2336e58f479",
   "metadata": {},
   "outputs": [],
   "source": [
    "stock['open']=stock['open'].fillna('86.352275')"
   ]
  },
  {
   "cell_type": "code",
   "execution_count": 12,
   "id": "ff59b197-5e77-400c-90d8-3e4cd01045b9",
   "metadata": {},
   "outputs": [],
   "source": [
    "stock['high']=stock['high'].fillna('87.132562')"
   ]
  },
  {
   "cell_type": "code",
   "execution_count": 13,
   "id": "b76bc835-669f-478f-858a-3781f7e93c20",
   "metadata": {},
   "outputs": [],
   "source": [
    "stock['low']=stock['low'].fillna('85.552467')"
   ]
  },
  {
   "cell_type": "code",
   "execution_count": 14,
   "id": "1da276f2-fd7c-4749-9aad-fe5f8f605a9b",
   "metadata": {},
   "outputs": [
    {
     "data": {
      "text/plain": [
       "symbol    0\n",
       "date      0\n",
       "open      0\n",
       "high      0\n",
       "low       0\n",
       "close     0\n",
       "volume    0\n",
       "dtype: int64"
      ]
     },
     "execution_count": 14,
     "metadata": {},
     "output_type": "execute_result"
    }
   ],
   "source": [
    "stock.isnull().sum()"
   ]
  },
  {
   "cell_type": "markdown",
   "id": "f655fba3-8f69-4872-837c-e8a9ddceef13",
   "metadata": {},
   "source": [
    "#### 4. VERIFYING THEIR DATATYPES"
   ]
  },
  {
   "cell_type": "code",
   "execution_count": 16,
   "id": "cc3e4c3c-ce4e-4c1b-944c-aa9d82ef1f5d",
   "metadata": {},
   "outputs": [
    {
     "data": {
      "text/plain": [
       "symbol     object\n",
       "date       object\n",
       "open       object\n",
       "high       object\n",
       "low        object\n",
       "close     float64\n",
       "volume      int64\n",
       "dtype: object"
      ]
     },
     "execution_count": 16,
     "metadata": {},
     "output_type": "execute_result"
    }
   ],
   "source": [
    "stock.dtypes"
   ]
  },
  {
   "cell_type": "markdown",
   "id": "a3465b4f-afb8-46d3-b92b-e0d30d2112f7",
   "metadata": {},
   "source": [
    "#### 5. CHECKING THE UNIQUE VALUES"
   ]
  },
  {
   "cell_type": "code",
   "execution_count": 18,
   "id": "267236ad-5c3d-45fa-bf86-9ecfad8337b1",
   "metadata": {},
   "outputs": [
    {
     "name": "stdout",
     "output_type": "stream",
     "text": [
      "symbol : \n",
      " ['AAL' 'AAPL' 'AAP' 'ABBV' 'ABC' 'ABT' 'ACN' 'ADBE' 'ADI' 'ADM' 'ADP'\n",
      " 'ADSK' 'ADS' 'AEE' 'AEP' 'AES' 'AET' 'AFL' 'AGN' 'AIG' 'AIV' 'AIZ' 'AJG'\n",
      " 'AKAM' 'ALB' 'ALGN' 'ALK' 'ALLE' 'ALL' 'ALXN' 'AMAT' 'AMD' 'AME' 'AMGN'\n",
      " 'AMG' 'AMP' 'AMT' 'AMZN' 'ANDV' 'ANSS' 'ANTM' 'AON' 'AOS' 'APA' 'APC'\n",
      " 'APD' 'APH' 'ARE' 'ARNC' 'ATVI' 'AVB' 'AVGO' 'AVY' 'AWK' 'AXP' 'AYI'\n",
      " 'AZO' 'A' 'BAC' 'BAX' 'BA' 'BBT' 'BBY' 'BDX' 'BEN' 'BF.B' 'BIIB' 'BK'\n",
      " 'BLK' 'BLL' 'BMY' 'BRK.B' 'BSX' 'BWA' 'BXP' 'CAG' 'CAH' 'CAT' 'CA' 'CBG'\n",
      " 'CBOE' 'CBS' 'CB' 'CCI' 'CCL' 'CDNS' 'CELG' 'CERN' 'CF' 'CHD' 'CHK'\n",
      " 'CHRW' 'CHTR' 'CINF' 'CI' 'CLX' 'CL' 'CMA' 'CMCSA' 'CME' 'CMG' 'CMI'\n",
      " 'CMS' 'CNC' 'CNP' 'COF' 'COG' 'COL' 'COO' 'COP' 'COST' 'COTY' 'CPB' 'CRM'\n",
      " 'CSCO' 'CSX' 'CTAS' 'CTL' 'CTSH' 'CTXS' 'CVS' 'CVX' 'CXO' 'C' 'DAL' 'DE'\n",
      " 'DFS' 'DGX' 'DG' 'DHI' 'DHR' 'DISCA' 'DISCK' 'DISH' 'DIS' 'DLR' 'DLTR'\n",
      " 'DOV' 'DPS' 'DRE' 'DRI' 'DTE' 'DUK' 'DVA' 'DVN' 'D' 'EA' 'EBAY' 'ECL'\n",
      " 'ED' 'EFX' 'EIX' 'EL' 'EMN' 'EMR' 'EOG' 'EQIX' 'EQR' 'EQT' 'ESRX' 'ESS'\n",
      " 'ES' 'ETFC' 'ETN' 'ETR' 'EW' 'EXC' 'EXPD' 'EXPE' 'EXR' 'FAST' 'FBHS' 'FB'\n",
      " 'FCX' 'FDX' 'FE' 'FFIV' 'FISV' 'FIS' 'FITB' 'FLIR' 'FLR' 'FLS' 'FL' 'FMC'\n",
      " 'FOXA' 'FOX' 'FRT' 'FTI' 'F' 'GD' 'GE' 'GGP' 'GILD' 'GIS' 'GLW' 'GM'\n",
      " 'GOOGL' 'GPC' 'GPN' 'GPS' 'GRMN' 'GS' 'GT' 'GWW' 'HAL' 'HAS' 'HBAN' 'HBI'\n",
      " 'HCA' 'HCN' 'HCP' 'HD' 'HES' 'HIG' 'HII' 'HOG' 'HOLX' 'HON' 'HP' 'HRB'\n",
      " 'HRL' 'HRS' 'HSIC' 'HST' 'HSY' 'HUM' 'IBM' 'ICE' 'IDXX' 'IFF' 'ILMN'\n",
      " 'INCY' 'INTC' 'INTU' 'IPG' 'IP' 'IQV' 'IRM' 'IR' 'ISRG' 'ITW' 'IT' 'IVZ'\n",
      " 'JBHT' 'JCI' 'JEC' 'JNJ' 'JNPR' 'JPM' 'JWN' 'KEY' 'KIM' 'KLAC' 'KMB'\n",
      " 'KMI' 'KMX' 'KORS' 'KO' 'KR' 'KSS' 'KSU' 'K' 'LB' 'LEG' 'LEN' 'LH' 'LKQ'\n",
      " 'LLL' 'LLY' 'LMT' 'LNC' 'LNT' 'LOW' 'LRCX' 'LUK' 'LUV' 'LYB' 'L' 'MAA'\n",
      " 'MAC' 'MAR' 'MAS' 'MAT' 'MA' 'MCD' 'MCHP' 'MCK' 'MCO' 'MDLZ' 'MDT' 'MET'\n",
      " 'MGM' 'MHK' 'MKC' 'MLM' 'MMC' 'MMM' 'MNST' 'MON' 'MOS' 'MO' 'MPC' 'MRK'\n",
      " 'MRO' 'MSFT' 'MSI' 'MS' 'MTB' 'MTD' 'MU' 'MYL' 'M' 'NBL' 'NCLH' 'NDAQ'\n",
      " 'NEE' 'NEM' 'NFLX' 'NFX' 'NI' 'NKE' 'NLSN' 'NOC' 'NOV' 'NRG' 'NSC' 'NTAP'\n",
      " 'NTRS' 'NUE' 'NVDA' 'NWL' 'NWSA' 'NWS' 'OKE' 'OMC' 'ORCL' 'ORLY' 'OXY'\n",
      " 'O' 'PAYX' 'PBCT' 'PCAR' 'PCG' 'PCLN' 'PDCO' 'PEG' 'PEP' 'PFE' 'PFG'\n",
      " 'PGR' 'PG' 'PHM' 'PH' 'PKG' 'PKI' 'PLD' 'PM' 'PNC' 'PNR' 'PNW' 'PPG'\n",
      " 'PPL' 'PRGO' 'PRU' 'PSA' 'PSX' 'PVH' 'PWR' 'PXD' 'PX' 'QCOM' 'RCL' 'REGN'\n",
      " 'REG' 'RE' 'RF' 'RHI' 'RHT' 'RJF' 'RL' 'RMD' 'ROK' 'ROP' 'ROST' 'RRC'\n",
      " 'RSG' 'RTN' 'SBAC' 'SBUX' 'SCG' 'SCHW' 'SEE' 'SHW' 'SIG' 'SJM' 'SLB'\n",
      " 'SLG' 'SNA' 'SNI' 'SNPS' 'SO' 'SPGI' 'SPG' 'SRCL' 'SRE' 'STI' 'STT' 'STX'\n",
      " 'STZ' 'SWKS' 'SWK' 'SYK' 'SYMC' 'SYY' 'TAP' 'TDG' 'TEL' 'TGT' 'TIF' 'TJX'\n",
      " 'TMK' 'TMO' 'TPR' 'TRIP' 'TROW' 'TRV' 'TSCO' 'TSN' 'TSS' 'TWX' 'TXN'\n",
      " 'TXT' 'T' 'UAA' 'UAL' 'UDR' 'UHS' 'ULTA' 'UNH' 'UNM' 'UNP' 'UPS' 'URI'\n",
      " 'USB' 'UTX' 'VAR' 'VFC' 'VIAB' 'VLO' 'VMC' 'VNO' 'VRSK' 'VRSN' 'VRTX'\n",
      " 'VTR' 'VZ' 'V' 'WAT' 'WBA' 'WDC' 'WEC' 'WFC' 'WHR' 'WMB' 'WMT' 'WM' 'WU'\n",
      " 'WYNN' 'WYN' 'WY' 'XEC' 'XEL' 'XLNX' 'XL' 'XOM' 'XRAY' 'XRX' 'XYL' 'YUM'\n",
      " 'ZBH' 'ZION' 'ZTS' 'GOOG' 'NAVI' 'INFO' 'SYF' 'CFG' 'QRVO' 'WRK' 'KHC'\n",
      " 'PYPL' 'HPE' 'HPQ' 'CSRA' 'WLTW' 'UA' 'FTV' 'EVHC' 'HLT' 'DXC' 'BHGE'\n",
      " 'BHF' 'DWDP' 'APTV']\n",
      "date : \n",
      " ['2014-01-02' '2014-01-03' '2014-01-06' ... '2017-12-27' '2017-12-28'\n",
      " '2017-12-29']\n",
      "open : \n",
      " [25.07 79.3828 110.36 ... 261.85 413.8 276.61]\n",
      "high : \n",
      " [25.82 79.5756 111.88 ... 171.6753 152.3124 123.7325]\n",
      "low : \n",
      " [25.06 78.8601 109.29 ... 274.62 13.2946 168.255]\n",
      "close : \n",
      " [  25.36     79.0185  109.74   ... 1737.74    375.96    410.04  ]\n",
      "volume : \n",
      " [ 8998943 58791957   542711 ...  1023624  1261916  1704122]\n"
     ]
    }
   ],
   "source": [
    "for i in stock.columns:\n",
    "    print(i,':','\\n',stock[i].unique())"
   ]
  },
  {
   "cell_type": "markdown",
   "id": "dc54f93a-c0ec-424b-a0c9-3f46f8e0c68e",
   "metadata": {},
   "source": [
    "#### 6. DATASET INFO"
   ]
  },
  {
   "cell_type": "code",
   "execution_count": 20,
   "id": "dac15595-76cf-4b02-9fed-a3d81790a1c6",
   "metadata": {},
   "outputs": [
    {
     "name": "stdout",
     "output_type": "stream",
     "text": [
      "<class 'pandas.core.frame.DataFrame'>\n",
      "RangeIndex: 497472 entries, 0 to 497471\n",
      "Data columns (total 7 columns):\n",
      " #   Column  Non-Null Count   Dtype  \n",
      "---  ------  --------------   -----  \n",
      " 0   symbol  497472 non-null  object \n",
      " 1   date    497472 non-null  object \n",
      " 2   open    497472 non-null  object \n",
      " 3   high    497472 non-null  object \n",
      " 4   low     497472 non-null  object \n",
      " 5   close   497472 non-null  float64\n",
      " 6   volume  497472 non-null  int64  \n",
      "dtypes: float64(1), int64(1), object(5)\n",
      "memory usage: 26.6+ MB\n"
     ]
    }
   ],
   "source": [
    "stock.info()"
   ]
  },
  {
   "cell_type": "markdown",
   "id": "a48a593d-1a73-479d-92e0-d9fd8534e929",
   "metadata": {},
   "source": [
    "#### 7. LABEL ENCODER\n",
    "- We use Label Encoder to encode other columns.\n",
    "- It is used to encode categorical columns into numerical columns.\n",
    "- If the number of categories is small then we can use this technique."
   ]
  },
  {
   "cell_type": "code",
   "execution_count": 22,
   "id": "347921d5-c7f1-4a11-be22-2c725e376c9c",
   "metadata": {},
   "outputs": [],
   "source": [
    "from sklearn.preprocessing import LabelEncoder"
   ]
  },
  {
   "cell_type": "code",
   "execution_count": 23,
   "id": "4232bc66-433e-4212-ac0a-ccd4af1b0a4c",
   "metadata": {},
   "outputs": [
    {
     "data": {
      "text/html": [
       "<div>\n",
       "<style scoped>\n",
       "    .dataframe tbody tr th:only-of-type {\n",
       "        vertical-align: middle;\n",
       "    }\n",
       "\n",
       "    .dataframe tbody tr th {\n",
       "        vertical-align: top;\n",
       "    }\n",
       "\n",
       "    .dataframe thead th {\n",
       "        text-align: right;\n",
       "    }\n",
       "</style>\n",
       "<table border=\"1\" class=\"dataframe\">\n",
       "  <thead>\n",
       "    <tr style=\"text-align: right;\">\n",
       "      <th></th>\n",
       "      <th>symbol</th>\n",
       "      <th>date</th>\n",
       "      <th>open</th>\n",
       "      <th>high</th>\n",
       "      <th>low</th>\n",
       "      <th>close</th>\n",
       "      <th>volume</th>\n",
       "    </tr>\n",
       "  </thead>\n",
       "  <tbody>\n",
       "    <tr>\n",
       "      <th>0</th>\n",
       "      <td>1</td>\n",
       "      <td>2014-01-02</td>\n",
       "      <td>25.07</td>\n",
       "      <td>25.82</td>\n",
       "      <td>25.06</td>\n",
       "      <td>25.3600</td>\n",
       "      <td>8998943</td>\n",
       "    </tr>\n",
       "    <tr>\n",
       "      <th>1</th>\n",
       "      <td>3</td>\n",
       "      <td>2014-01-02</td>\n",
       "      <td>79.3828</td>\n",
       "      <td>79.5756</td>\n",
       "      <td>78.8601</td>\n",
       "      <td>79.0185</td>\n",
       "      <td>58791957</td>\n",
       "    </tr>\n",
       "    <tr>\n",
       "      <th>2</th>\n",
       "      <td>2</td>\n",
       "      <td>2014-01-02</td>\n",
       "      <td>110.36</td>\n",
       "      <td>111.88</td>\n",
       "      <td>109.29</td>\n",
       "      <td>109.7400</td>\n",
       "      <td>542711</td>\n",
       "    </tr>\n",
       "    <tr>\n",
       "      <th>3</th>\n",
       "      <td>4</td>\n",
       "      <td>2014-01-02</td>\n",
       "      <td>52.12</td>\n",
       "      <td>52.33</td>\n",
       "      <td>51.52</td>\n",
       "      <td>51.9800</td>\n",
       "      <td>4569061</td>\n",
       "    </tr>\n",
       "    <tr>\n",
       "      <th>4</th>\n",
       "      <td>5</td>\n",
       "      <td>2014-01-02</td>\n",
       "      <td>70.11</td>\n",
       "      <td>70.23</td>\n",
       "      <td>69.48</td>\n",
       "      <td>69.8900</td>\n",
       "      <td>1148391</td>\n",
       "    </tr>\n",
       "  </tbody>\n",
       "</table>\n",
       "</div>"
      ],
      "text/plain": [
       "   symbol        date     open     high      low     close    volume\n",
       "0       1  2014-01-02    25.07    25.82    25.06   25.3600   8998943\n",
       "1       3  2014-01-02  79.3828  79.5756  78.8601   79.0185  58791957\n",
       "2       2  2014-01-02   110.36   111.88   109.29  109.7400    542711\n",
       "3       4  2014-01-02    52.12    52.33    51.52   51.9800   4569061\n",
       "4       5  2014-01-02    70.11    70.23    69.48   69.8900   1148391"
      ]
     },
     "execution_count": 23,
     "metadata": {},
     "output_type": "execute_result"
    }
   ],
   "source": [
    "le=LabelEncoder()\n",
    "stock['symbol']=le.fit_transform(stock['symbol'])\n",
    "stock.head()"
   ]
  },
  {
   "cell_type": "markdown",
   "id": "067c7c75-680a-49d7-ad43-fa4b783f2fb2",
   "metadata": {},
   "source": [
    "#### 8. STANDARD SCALER\n",
    "- Standard scaler is used to standardize the numerical feature that have mean=0 and standard deviation=1.\n",
    "- It ensures that each feature contributes equally.\n",
    "- It helps to prevent features with larger ranges from dominating other features."
   ]
  },
  {
   "cell_type": "code",
   "execution_count": 25,
   "id": "bc465ad3-3cd9-49d4-ba01-becf7b092976",
   "metadata": {},
   "outputs": [],
   "source": [
    "from sklearn.preprocessing import StandardScaler"
   ]
  },
  {
   "cell_type": "code",
   "execution_count": 26,
   "id": "b6700530-d89b-4675-94a9-722953ca2d30",
   "metadata": {},
   "outputs": [],
   "source": [
    "sc=StandardScaler()\n",
    "stock_num=stock.drop(columns='date')\n",
    "stock_scaled=sc.fit_transform(stock_num)"
   ]
  },
  {
   "cell_type": "code",
   "execution_count": 27,
   "id": "7a08f9f3-864b-43da-ac88-dd06de06b8db",
   "metadata": {},
   "outputs": [],
   "source": [
    "stock_final=pd.DataFrame(stock_scaled,columns=stock_num.columns,index=stock_num.index)"
   ]
  },
  {
   "cell_type": "code",
   "execution_count": 28,
   "id": "0fdc8ce2-028d-4418-9d29-254a83c78404",
   "metadata": {},
   "outputs": [
    {
     "data": {
      "text/html": [
       "<div>\n",
       "<style scoped>\n",
       "    .dataframe tbody tr th:only-of-type {\n",
       "        vertical-align: middle;\n",
       "    }\n",
       "\n",
       "    .dataframe tbody tr th {\n",
       "        vertical-align: top;\n",
       "    }\n",
       "\n",
       "    .dataframe thead th {\n",
       "        text-align: right;\n",
       "    }\n",
       "</style>\n",
       "<table border=\"1\" class=\"dataframe\">\n",
       "  <thead>\n",
       "    <tr style=\"text-align: right;\">\n",
       "      <th></th>\n",
       "      <th>symbol</th>\n",
       "      <th>open</th>\n",
       "      <th>high</th>\n",
       "      <th>low</th>\n",
       "      <th>close</th>\n",
       "      <th>volume</th>\n",
       "    </tr>\n",
       "  </thead>\n",
       "  <tbody>\n",
       "    <tr>\n",
       "      <th>0</th>\n",
       "      <td>-1.727913</td>\n",
       "      <td>-0.603945</td>\n",
       "      <td>-0.599276</td>\n",
       "      <td>-0.601496</td>\n",
       "      <td>-0.601239</td>\n",
       "      <td>0.576440</td>\n",
       "    </tr>\n",
       "    <tr>\n",
       "      <th>1</th>\n",
       "      <td>-1.714198</td>\n",
       "      <td>-0.068685</td>\n",
       "      <td>-0.073863</td>\n",
       "      <td>-0.066544</td>\n",
       "      <td>-0.072439</td>\n",
       "      <td>6.625058</td>\n",
       "    </tr>\n",
       "    <tr>\n",
       "      <th>2</th>\n",
       "      <td>-1.721055</td>\n",
       "      <td>0.236599</td>\n",
       "      <td>0.241884</td>\n",
       "      <td>0.236030</td>\n",
       "      <td>0.230318</td>\n",
       "      <td>-0.450782</td>\n",
       "    </tr>\n",
       "    <tr>\n",
       "      <th>3</th>\n",
       "      <td>-1.707341</td>\n",
       "      <td>-0.337363</td>\n",
       "      <td>-0.340164</td>\n",
       "      <td>-0.338396</td>\n",
       "      <td>-0.338901</td>\n",
       "      <td>0.038319</td>\n",
       "    </tr>\n",
       "    <tr>\n",
       "      <th>4</th>\n",
       "      <td>-1.700483</td>\n",
       "      <td>-0.160070</td>\n",
       "      <td>-0.165207</td>\n",
       "      <td>-0.159814</td>\n",
       "      <td>-0.162400</td>\n",
       "      <td>-0.377207</td>\n",
       "    </tr>\n",
       "  </tbody>\n",
       "</table>\n",
       "</div>"
      ],
      "text/plain": [
       "     symbol      open      high       low     close    volume\n",
       "0 -1.727913 -0.603945 -0.599276 -0.601496 -0.601239  0.576440\n",
       "1 -1.714198 -0.068685 -0.073863 -0.066544 -0.072439  6.625058\n",
       "2 -1.721055  0.236599  0.241884  0.236030  0.230318 -0.450782\n",
       "3 -1.707341 -0.337363 -0.340164 -0.338396 -0.338901  0.038319\n",
       "4 -1.700483 -0.160070 -0.165207 -0.159814 -0.162400 -0.377207"
      ]
     },
     "execution_count": 28,
     "metadata": {},
     "output_type": "execute_result"
    }
   ],
   "source": [
    "stock_final.head()"
   ]
  },
  {
   "cell_type": "markdown",
   "id": "0df7ab32-f03c-462a-8416-20bdaf7593cd",
   "metadata": {},
   "source": [
    "#### 9. FINAL DATASET"
   ]
  },
  {
   "cell_type": "code",
   "execution_count": 30,
   "id": "cd124d0d-fc4a-48b8-9f23-6e268f30f315",
   "metadata": {},
   "outputs": [],
   "source": [
    "stock_last=pd.concat([stock['date'],stock_final],axis=1)"
   ]
  },
  {
   "cell_type": "code",
   "execution_count": 31,
   "id": "ebedbfb2-78f4-43bd-ac20-9dbf69da9888",
   "metadata": {},
   "outputs": [
    {
     "data": {
      "text/html": [
       "<div>\n",
       "<style scoped>\n",
       "    .dataframe tbody tr th:only-of-type {\n",
       "        vertical-align: middle;\n",
       "    }\n",
       "\n",
       "    .dataframe tbody tr th {\n",
       "        vertical-align: top;\n",
       "    }\n",
       "\n",
       "    .dataframe thead th {\n",
       "        text-align: right;\n",
       "    }\n",
       "</style>\n",
       "<table border=\"1\" class=\"dataframe\">\n",
       "  <thead>\n",
       "    <tr style=\"text-align: right;\">\n",
       "      <th></th>\n",
       "      <th>date</th>\n",
       "      <th>symbol</th>\n",
       "      <th>open</th>\n",
       "      <th>high</th>\n",
       "      <th>low</th>\n",
       "      <th>close</th>\n",
       "      <th>volume</th>\n",
       "    </tr>\n",
       "  </thead>\n",
       "  <tbody>\n",
       "    <tr>\n",
       "      <th>0</th>\n",
       "      <td>2014-01-02</td>\n",
       "      <td>-1.727913</td>\n",
       "      <td>-0.603945</td>\n",
       "      <td>-0.599276</td>\n",
       "      <td>-0.601496</td>\n",
       "      <td>-0.601239</td>\n",
       "      <td>0.576440</td>\n",
       "    </tr>\n",
       "    <tr>\n",
       "      <th>1</th>\n",
       "      <td>2014-01-02</td>\n",
       "      <td>-1.714198</td>\n",
       "      <td>-0.068685</td>\n",
       "      <td>-0.073863</td>\n",
       "      <td>-0.066544</td>\n",
       "      <td>-0.072439</td>\n",
       "      <td>6.625058</td>\n",
       "    </tr>\n",
       "    <tr>\n",
       "      <th>2</th>\n",
       "      <td>2014-01-02</td>\n",
       "      <td>-1.721055</td>\n",
       "      <td>0.236599</td>\n",
       "      <td>0.241884</td>\n",
       "      <td>0.236030</td>\n",
       "      <td>0.230318</td>\n",
       "      <td>-0.450782</td>\n",
       "    </tr>\n",
       "    <tr>\n",
       "      <th>3</th>\n",
       "      <td>2014-01-02</td>\n",
       "      <td>-1.707341</td>\n",
       "      <td>-0.337363</td>\n",
       "      <td>-0.340164</td>\n",
       "      <td>-0.338396</td>\n",
       "      <td>-0.338901</td>\n",
       "      <td>0.038319</td>\n",
       "    </tr>\n",
       "    <tr>\n",
       "      <th>4</th>\n",
       "      <td>2014-01-02</td>\n",
       "      <td>-1.700483</td>\n",
       "      <td>-0.160070</td>\n",
       "      <td>-0.165207</td>\n",
       "      <td>-0.159814</td>\n",
       "      <td>-0.162400</td>\n",
       "      <td>-0.377207</td>\n",
       "    </tr>\n",
       "  </tbody>\n",
       "</table>\n",
       "</div>"
      ],
      "text/plain": [
       "         date    symbol      open      high       low     close    volume\n",
       "0  2014-01-02 -1.727913 -0.603945 -0.599276 -0.601496 -0.601239  0.576440\n",
       "1  2014-01-02 -1.714198 -0.068685 -0.073863 -0.066544 -0.072439  6.625058\n",
       "2  2014-01-02 -1.721055  0.236599  0.241884  0.236030  0.230318 -0.450782\n",
       "3  2014-01-02 -1.707341 -0.337363 -0.340164 -0.338396 -0.338901  0.038319\n",
       "4  2014-01-02 -1.700483 -0.160070 -0.165207 -0.159814 -0.162400 -0.377207"
      ]
     },
     "execution_count": 31,
     "metadata": {},
     "output_type": "execute_result"
    }
   ],
   "source": [
    "stock_last.head()"
   ]
  },
  {
   "cell_type": "code",
   "execution_count": 32,
   "id": "a954f066-e826-46c6-ac48-8ff8817e4141",
   "metadata": {},
   "outputs": [
    {
     "name": "stdout",
     "output_type": "stream",
     "text": [
      "              date    symbol      open      high       low     close    volume\n",
      "0       2014-01-02 -1.727913 -0.603945 -0.599276 -0.601496 -0.601239  0.576440\n",
      "1       2014-01-02 -1.714198 -0.068685 -0.073863 -0.066544 -0.072439  6.625058\n",
      "2       2014-01-02 -1.721055  0.236599  0.241884  0.236030  0.230318 -0.450782\n",
      "3       2014-01-02 -1.707341 -0.337363 -0.340164 -0.338396 -0.338901  0.038319\n",
      "4       2014-01-02 -1.700483 -0.160070 -0.165207 -0.159814 -0.162400 -0.377207\n",
      "...            ...       ...       ...       ...       ...       ...       ...\n",
      "497467  2017-12-29  1.693863 -0.175641 -0.179184 -0.175325 -0.179055 -0.389563\n",
      "497468  2017-12-29  1.700720 -0.036585 -0.043227 -0.039400 -0.046900 -0.353007\n",
      "497469  2017-12-29  1.707578  0.348849  0.340309  0.348688  0.338032 -0.392363\n",
      "497470  2017-12-29  1.714435 -0.345642 -0.347788 -0.345455 -0.350234 -0.363417\n",
      "497471  2017-12-29  1.721292 -0.136023 -0.140479 -0.134359 -0.141212 -0.309700\n",
      "\n",
      "[497472 rows x 7 columns]\n"
     ]
    }
   ],
   "source": [
    "stock_last.to_csv('Cleaned Stock Price Dataset.csv',index=False)\n",
    "print(stock_last)"
   ]
  }
 ],
 "metadata": {
  "kernelspec": {
   "display_name": "Python [conda env:base] *",
   "language": "python",
   "name": "conda-base-py"
  },
  "language_info": {
   "codemirror_mode": {
    "name": "ipython",
    "version": 3
   },
   "file_extension": ".py",
   "mimetype": "text/x-python",
   "name": "python",
   "nbconvert_exporter": "python",
   "pygments_lexer": "ipython3",
   "version": "3.12.7"
  }
 },
 "nbformat": 4,
 "nbformat_minor": 5
}
